{
  "nbformat": 4,
  "nbformat_minor": 0,
  "metadata": {
    "colab": {
      "provenance": [],
      "toc_visible": true,
      "include_colab_link": true
    },
    "kernelspec": {
      "name": "python3",
      "display_name": "Python 3"
    },
    "language_info": {
      "name": "python"
    }
  },
  "cells": [
    {
      "cell_type": "markdown",
      "metadata": {
        "id": "view-in-github",
        "colab_type": "text"
      },
      "source": [
        "<a href=\"https://colab.research.google.com/github/Vishu6744/RL/blob/main/RL_Vishu_Practical1.ipynb\" target=\"_parent\"><img src=\"https://colab.research.google.com/assets/colab-badge.svg\" alt=\"Open In Colab\"/></a>"
      ]
    },
    {
      "cell_type": "code",
      "execution_count": 1,
      "metadata": {
        "colab": {
          "base_uri": "https://localhost:8080/"
        },
        "id": "bEqZgaUBqeFG",
        "outputId": "77930d8a-a3a0-4349-c709-1cf72e2e1873"
      },
      "outputs": [
        {
          "output_type": "stream",
          "name": "stdout",
          "text": [
            "Python 3.10.12\n"
          ]
        }
      ],
      "source": [
        "!python --version\n"
      ]
    },
    {
      "cell_type": "code",
      "source": [
        "def quicksort(arr):\n",
        "  if len(arr )<=1:\n",
        "    return arr\n",
        "  pivot =arr[len(arr)// 2]\n",
        "  left=[x for x in arr if x<pivot]\n",
        "  middle=[x for x in arr if x==pivot]\n",
        "  right=[x for x in arr if x>pivot]\n",
        "  return quicksort(left)+middle+quicksort(right)\n",
        "\n",
        "print(quicksort([2,5,1,64,23,76,1]))"
      ],
      "metadata": {
        "id": "Ahj58yzlqjGw",
        "colab": {
          "base_uri": "https://localhost:8080/"
        },
        "outputId": "ef15b357-bfc3-40ef-83f8-70dca5e716ef"
      },
      "execution_count": 2,
      "outputs": [
        {
          "output_type": "stream",
          "name": "stdout",
          "text": [
            "[1, 1, 2, 5, 23, 64, 76]\n"
          ]
        }
      ]
    },
    {
      "cell_type": "code",
      "source": [
        "x=3\n",
        "print(x,type(x))\n",
        "\n"
      ],
      "metadata": {
        "colab": {
          "base_uri": "https://localhost:8080/"
        },
        "id": "R6BKJ6kQs4Xw",
        "outputId": "0c62ae8f-31a7-43fc-a186-d681a0f87957"
      },
      "execution_count": 3,
      "outputs": [
        {
          "output_type": "stream",
          "name": "stdout",
          "text": [
            "3 <class 'int'>\n"
          ]
        }
      ]
    },
    {
      "cell_type": "code",
      "source": [
        "print(x+1)\n",
        "print(x-1)\n",
        "print(x*2)\n",
        "print(x**2)\n",
        "\n",
        "\n"
      ],
      "metadata": {
        "colab": {
          "base_uri": "https://localhost:8080/"
        },
        "id": "2j1SZszjtwpR",
        "outputId": "8e15e3ec-f776-478b-f78f-08ca28d9c695"
      },
      "execution_count": 4,
      "outputs": [
        {
          "output_type": "stream",
          "name": "stdout",
          "text": [
            "4\n",
            "2\n",
            "6\n",
            "9\n"
          ]
        }
      ]
    },
    {
      "cell_type": "code",
      "source": [
        "x+=1\n",
        "print(x)\n",
        "x*=2\n",
        "print(x)"
      ],
      "metadata": {
        "colab": {
          "base_uri": "https://localhost:8080/"
        },
        "id": "MdOdlglMtx7X",
        "outputId": "291b9017-07e1-41a4-85f5-49cfb81e27ee"
      },
      "execution_count": 5,
      "outputs": [
        {
          "output_type": "stream",
          "name": "stdout",
          "text": [
            "4\n",
            "8\n"
          ]
        }
      ]
    },
    {
      "cell_type": "code",
      "source": [
        "y=2.5\n",
        "print(type(y))\n",
        "print(y,y+1,y*2,y**2)"
      ],
      "metadata": {
        "colab": {
          "base_uri": "https://localhost:8080/"
        },
        "id": "Xc3htjJrvdMW",
        "outputId": "a6a9008b-da55-43bf-fcb8-da8ffe49fa34"
      },
      "execution_count": 6,
      "outputs": [
        {
          "output_type": "stream",
          "name": "stdout",
          "text": [
            "<class 'float'>\n",
            "2.5 3.5 5.0 6.25\n"
          ]
        }
      ]
    },
    {
      "cell_type": "code",
      "source": [
        "t,f=True, False\n",
        "print(type(t))"
      ],
      "metadata": {
        "colab": {
          "base_uri": "https://localhost:8080/"
        },
        "id": "dO0Nk0q4wOwr",
        "outputId": "3119eb06-c8e0-4398-c025-2d310a2d92bf"
      },
      "execution_count": 7,
      "outputs": [
        {
          "output_type": "stream",
          "name": "stdout",
          "text": [
            "<class 'bool'>\n"
          ]
        }
      ]
    },
    {
      "cell_type": "code",
      "source": [
        "print(t and f)\n",
        "print(t or f)\n",
        "print(not t )\n",
        "print(t != f)\n"
      ],
      "metadata": {
        "colab": {
          "base_uri": "https://localhost:8080/"
        },
        "id": "mz2Zx9cCwrsN",
        "outputId": "a0a748a0-d9cf-46c0-bb58-2f790ff2976f"
      },
      "execution_count": 8,
      "outputs": [
        {
          "output_type": "stream",
          "name": "stdout",
          "text": [
            "False\n",
            "True\n",
            "False\n",
            "True\n"
          ]
        }
      ]
    },
    {
      "cell_type": "code",
      "source": [
        "hello='hello'\n",
        "world=\"world\"\n",
        "print(hello, len(hello))"
      ],
      "metadata": {
        "colab": {
          "base_uri": "https://localhost:8080/"
        },
        "id": "v6Pbp40MxCRL",
        "outputId": "0dccb1fb-a23a-4948-a9da-eb18f7e3fecb"
      },
      "execution_count": 9,
      "outputs": [
        {
          "output_type": "stream",
          "name": "stdout",
          "text": [
            "hello 5\n"
          ]
        }
      ]
    },
    {
      "cell_type": "code",
      "source": [
        "f1='Abhay'    #string concatenating\n",
        "m1='Singh'\n",
        "l1='Bisht'\n",
        "hw = f1+' '+m1+' '+l1\n",
        "print(hw)"
      ],
      "metadata": {
        "colab": {
          "base_uri": "https://localhost:8080/"
        },
        "id": "Ver0_BMlxwWW",
        "outputId": "03755de1-d704-4dd4-efa8-f31d38bb011e"
      },
      "execution_count": 10,
      "outputs": [
        {
          "output_type": "stream",
          "name": "stdout",
          "text": [
            "Abhay Singh Bisht\n"
          ]
        }
      ]
    },
    {
      "cell_type": "code",
      "source": [
        "hw12='{} {} {} {}'.format(f1, m1, l1, 12) #string formatting\n",
        "print(hw12)"
      ],
      "metadata": {
        "colab": {
          "base_uri": "https://localhost:8080/"
        },
        "id": "AcTgoNF6yZLL",
        "outputId": "4fecccc9-77f7-4292-9678-879e2466850f"
      },
      "execution_count": 11,
      "outputs": [
        {
          "output_type": "stream",
          "name": "stdout",
          "text": [
            "Abhay Singh Bisht 12\n"
          ]
        }
      ]
    },
    {
      "cell_type": "code",
      "source": [
        "print(len(hw12))"
      ],
      "metadata": {
        "colab": {
          "base_uri": "https://localhost:8080/"
        },
        "id": "23yhOzlXzUKE",
        "outputId": "829659ad-3de7-4992-960e-72f4db747c21"
      },
      "execution_count": 12,
      "outputs": [
        {
          "output_type": "stream",
          "name": "stdout",
          "text": [
            "20\n"
          ]
        }
      ]
    },
    {
      "cell_type": "code",
      "source": [
        "s=\"aryan\"\n",
        "print(s.capitalize())  #capitalize a string\n",
        "print(s.upper())      #convert a string to uppercase; print\"HELLO\"\n",
        "print(s.rjust(7))   #Right-justify a string , padding with spaces\n",
        "print(s.center(7))#centre a strig, padding with spaces\n",
        "print(s.replace('a','(yan)'))#replace all instances of one substring with another\n",
        "print('   abhay '.strip()) #strip leading and trailing whitespace\n"
      ],
      "metadata": {
        "colab": {
          "base_uri": "https://localhost:8080/"
        },
        "id": "zeADzpLa0cmh",
        "outputId": "35c1c24a-d7d4-41e5-bbfc-86226b017565"
      },
      "execution_count": 13,
      "outputs": [
        {
          "output_type": "stream",
          "name": "stdout",
          "text": [
            "Aryan\n",
            "ARYAN\n",
            "  aryan\n",
            " aryan \n",
            "(yan)ry(yan)n\n",
            "abhay\n"
          ]
        }
      ]
    },
    {
      "cell_type": "code",
      "source": [
        "s=\"machine learning\"\n",
        "print(s.capitalize())  #capitalize a string\n",
        "print(s.upper())      #convert a string to uppercase; print\"HELLO\"\n",
        "print(s.rjust(27))   #Right-justify a string , padding with spaces\n",
        "print(s.center(27))#centre a strig, padding with spaces\n",
        "print(s.replace('a','(yan)'))#replace all instances of one substring with another\n",
        "print('   abhay '.strip()) #strip leading and trailing whitespace"
      ],
      "metadata": {
        "colab": {
          "base_uri": "https://localhost:8080/"
        },
        "id": "m2Y7BBbm1Kan",
        "outputId": "0a201000-c26a-4c5d-c10d-e2ca4f341dcf"
      },
      "execution_count": 14,
      "outputs": [
        {
          "output_type": "stream",
          "name": "stdout",
          "text": [
            "Machine learning\n",
            "MACHINE LEARNING\n",
            "           machine learning\n",
            "      machine learning     \n",
            "m(yan)chine le(yan)rning\n",
            "abhay\n"
          ]
        }
      ]
    },
    {
      "cell_type": "code",
      "source": [],
      "metadata": {
        "id": "pXlGxs3021fX"
      },
      "execution_count": 14,
      "outputs": []
    },
    {
      "cell_type": "markdown",
      "source": [
        "# LIST"
      ],
      "metadata": {
        "id": "ek-zSzxj4DxS"
      }
    },
    {
      "cell_type": "code",
      "source": [
        "xs=[3,1,2]\n",
        "print(xs, xs[2])\n",
        "print(xs[-1])  #negative indices count from the end of the list"
      ],
      "metadata": {
        "colab": {
          "base_uri": "https://localhost:8080/"
        },
        "id": "M9Ge6ZxP35xr",
        "outputId": "535b574e-5730-466d-b492-7bf388638a0f"
      },
      "execution_count": 15,
      "outputs": [
        {
          "output_type": "stream",
          "name": "stdout",
          "text": [
            "[3, 1, 2] 2\n",
            "2\n"
          ]
        }
      ]
    },
    {
      "cell_type": "code",
      "source": [
        "xs[2]='foo'   #list can contain elements of different types\n",
        "print(xs)"
      ],
      "metadata": {
        "colab": {
          "base_uri": "https://localhost:8080/"
        },
        "id": "BcOrkcQf4oNc",
        "outputId": "16197e11-e70f-4971-a6dc-7a8966658b60"
      },
      "execution_count": 16,
      "outputs": [
        {
          "output_type": "stream",
          "name": "stdout",
          "text": [
            "[3, 1, 'foo']\n"
          ]
        }
      ]
    },
    {
      "cell_type": "code",
      "source": [
        "xs.append(5) #add a new element to the end of the list\n",
        "print(xs)"
      ],
      "metadata": {
        "colab": {
          "base_uri": "https://localhost:8080/"
        },
        "id": "_8F7qdLN494C",
        "outputId": "3a0eb31c-3d3d-494d-fb7e-2bc22640140c"
      },
      "execution_count": 17,
      "outputs": [
        {
          "output_type": "stream",
          "name": "stdout",
          "text": [
            "[3, 1, 'foo', 5]\n"
          ]
        }
      ]
    },
    {
      "cell_type": "code",
      "source": [
        "x=xs.pop()   #remove and return the last element of the list\n",
        "print(x,xs)"
      ],
      "metadata": {
        "colab": {
          "base_uri": "https://localhost:8080/"
        },
        "id": "XcgG1dga5C5K",
        "outputId": "e2e36d4e-e3d8-4612-82aa-b7e9d9278884"
      },
      "execution_count": 18,
      "outputs": [
        {
          "output_type": "stream",
          "name": "stdout",
          "text": [
            "5 [3, 1, 'foo']\n"
          ]
        }
      ]
    },
    {
      "cell_type": "code",
      "source": [
        "nums= list(range(5))\n",
        "print(nums)\n",
        "print(nums[2:4])\n",
        "print(nums[2:])\n",
        "print(nums[:2])\n",
        "print(nums[:])\n",
        "print(nums[:-1])\n",
        "nums[2:4]=[8,9,3]\n",
        "print(nums)\n"
      ],
      "metadata": {
        "colab": {
          "base_uri": "https://localhost:8080/"
        },
        "id": "EiqpMAkY5x5L",
        "outputId": "ea7f4bef-8d24-4628-f3ed-a32afe9feae7"
      },
      "execution_count": 19,
      "outputs": [
        {
          "output_type": "stream",
          "name": "stdout",
          "text": [
            "[0, 1, 2, 3, 4]\n",
            "[2, 3]\n",
            "[2, 3, 4]\n",
            "[0, 1]\n",
            "[0, 1, 2, 3, 4]\n",
            "[0, 1, 2, 3]\n",
            "[0, 1, 8, 9, 3, 4]\n"
          ]
        }
      ]
    },
    {
      "cell_type": "code",
      "source": [],
      "metadata": {
        "id": "J9cOVvak7okE"
      },
      "execution_count": 19,
      "outputs": []
    },
    {
      "cell_type": "markdown",
      "source": [
        "# LOOP"
      ],
      "metadata": {
        "id": "b2CJyEvv850O"
      }
    },
    {
      "cell_type": "code",
      "source": [
        "animals=['cat','dog','monkey']\n",
        "for a in animals:\n",
        "  print(a)"
      ],
      "metadata": {
        "colab": {
          "base_uri": "https://localhost:8080/"
        },
        "id": "DtWHBnt49SSb",
        "outputId": "706f8c56-f8e8-4fbc-9042-9edb13426e28"
      },
      "execution_count": 20,
      "outputs": [
        {
          "output_type": "stream",
          "name": "stdout",
          "text": [
            "cat\n",
            "dog\n",
            "monkey\n"
          ]
        }
      ]
    },
    {
      "cell_type": "code",
      "source": [
        "animals=['cat','dog','monkey']\n",
        "for idx, animal in enumerate(animals):\n",
        "  print('#{}: {}'.format(idx+1, animal))"
      ],
      "metadata": {
        "colab": {
          "base_uri": "https://localhost:8080/"
        },
        "id": "ArTw0Nxq9h4W",
        "outputId": "d36b17b1-f9e7-4ba9-e307-05a231e3f8bb"
      },
      "execution_count": 21,
      "outputs": [
        {
          "output_type": "stream",
          "name": "stdout",
          "text": [
            "#1: cat\n",
            "#2: dog\n",
            "#3: monkey\n"
          ]
        }
      ]
    },
    {
      "cell_type": "code",
      "source": [],
      "metadata": {
        "id": "xVPRze0195QG"
      },
      "execution_count": 21,
      "outputs": []
    },
    {
      "cell_type": "markdown",
      "source": [
        "LIST COMPREHENSIONS:"
      ],
      "metadata": {
        "id": "QmebdyuQ-KTb"
      }
    },
    {
      "cell_type": "code",
      "source": [],
      "metadata": {
        "id": "O3aXdsVl-Ovm"
      },
      "execution_count": 21,
      "outputs": []
    }
  ]
}